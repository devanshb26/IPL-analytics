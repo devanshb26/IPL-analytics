{
 "cells": [
  {
   "cell_type": "code",
   "execution_count": 30,
   "metadata": {},
   "outputs": [],
   "source": [
    "import pandas as pd\n",
    "import numpy as np\n",
    "import matplotlib.pyplot as plt\n",
    "import seaborn as sns\n",
    "%matplotlib inline"
   ]
  },
  {
   "cell_type": "code",
   "execution_count": 31,
   "metadata": {},
   "outputs": [],
   "source": [
    "data = pd.read_csv('1082591.csv',header=None,names = list(range(0,11)))"
   ]
  },
  {
   "cell_type": "code",
   "execution_count": 32,
   "metadata": {},
   "outputs": [],
   "source": [
    "z=data.iloc[1:20,1:2].T\n",
    "z=list(z.loc[1])\n",
    "z[1]='team2'\n",
    "j=0\n",
    "for i in range(2,len(z)):\n",
    "    if z[i]=='umpire':\n",
    "        j=j+1\n",
    "        if j==2:\n",
    "            z[i]='umpire2'\n",
    "        elif j==3:\n",
    "            z[i]='umpire3'\n",
    "z.append('winner_wickets')\n",
    "z.append('umpire3')"
   ]
  },
  {
   "cell_type": "code",
   "execution_count": 33,
   "metadata": {},
   "outputs": [
    {
     "data": {
      "text/html": [
       "<div>\n",
       "<style scoped>\n",
       "    .dataframe tbody tr th:only-of-type {\n",
       "        vertical-align: middle;\n",
       "    }\n",
       "\n",
       "    .dataframe tbody tr th {\n",
       "        vertical-align: top;\n",
       "    }\n",
       "\n",
       "    .dataframe thead th {\n",
       "        text-align: right;\n",
       "    }\n",
       "</style>\n",
       "<table border=\"1\" class=\"dataframe\">\n",
       "  <thead>\n",
       "    <tr style=\"text-align: right;\">\n",
       "      <th></th>\n",
       "      <th>team</th>\n",
       "      <th>team2</th>\n",
       "      <th>gender</th>\n",
       "      <th>season</th>\n",
       "      <th>date</th>\n",
       "      <th>competition</th>\n",
       "      <th>match_number</th>\n",
       "      <th>venue</th>\n",
       "      <th>city</th>\n",
       "      <th>toss_winner</th>\n",
       "      <th>...</th>\n",
       "      <th>player_of_match</th>\n",
       "      <th>umpire</th>\n",
       "      <th>umpire2</th>\n",
       "      <th>reserve_umpire</th>\n",
       "      <th>tv_umpire</th>\n",
       "      <th>match_referee</th>\n",
       "      <th>winner</th>\n",
       "      <th>winner_runs</th>\n",
       "      <th>winner_wickets</th>\n",
       "      <th>umpire3</th>\n",
       "    </tr>\n",
       "  </thead>\n",
       "  <tbody>\n",
       "  </tbody>\n",
       "</table>\n",
       "<p>0 rows × 21 columns</p>\n",
       "</div>"
      ],
      "text/plain": [
       "Empty DataFrame\n",
       "Columns: [team, team2, gender, season, date, competition, match_number, venue, city, toss_winner, toss_decision, player_of_match, umpire, umpire2, reserve_umpire, tv_umpire, match_referee, winner, winner_runs, winner_wickets, umpire3]\n",
       "Index: []\n",
       "\n",
       "[0 rows x 21 columns]"
      ]
     },
     "execution_count": 33,
     "metadata": {},
     "output_type": "execute_result"
    }
   ],
   "source": [
    "matches = pd.DataFrame(columns=pd.Series(z))\n",
    "matches"
   ]
  },
  {
   "cell_type": "code",
   "execution_count": 34,
   "metadata": {},
   "outputs": [
    {
     "data": {
      "text/plain": [
       "644"
      ]
     },
     "execution_count": 34,
     "metadata": {},
     "output_type": "execute_result"
    }
   ],
   "source": [
    "import os\n",
    "files = os.listdir()\n",
    "len(files)"
   ]
  },
  {
   "cell_type": "code",
   "execution_count": 35,
   "metadata": {},
   "outputs": [
    {
     "data": {
      "text/plain": [
       "638"
      ]
     },
     "execution_count": 35,
     "metadata": {},
     "output_type": "execute_result"
    }
   ],
   "source": [
    "import re\n",
    "cricfiles=re.findall(r'[\\w]+.csv',' '.join(files))\n",
    "len(cricfiles)"
   ]
  },
  {
   "cell_type": "code",
   "execution_count": 3,
   "metadata": {},
   "outputs": [],
   "source": [
    "for i in range(len(cricfiles)):\n",
    "    data = pd.read_csv(cricfiles[i],header=None,names = list(range(0,11)))\n",
    "    a=data.iloc[1:20,2:3].T\n",
    "    z1=data.iloc[1:20,1:2].T\n",
    "    z1=list(z1.loc[1])\n",
    "    z1[1]='team2'\n",
    "    j=0\n",
    "    k=0\n",
    "    for i in range(len(z1)):\n",
    "        if z1[i]=='umpire':\n",
    "            j=j+1\n",
    "            if j==2:\n",
    "                z1[i]='umpire2'\n",
    "            elif j==3:\n",
    "                z1[i]='umpire3'\n",
    "        if z1[i]=='date':\n",
    "            k=k+1\n",
    "        if k==2:\n",
    "            z1[i]='date2'\n",
    "    for i in range(len(z1)):\n",
    "        if z1[i]=='1' or z1[i]=='2':\n",
    "            c=i\n",
    "            break\n",
    "        else:\n",
    "            c=20\n",
    "    df=pd.DataFrame(columns=pd.Series(z1[0:c]))\n",
    "    if c<20:\n",
    "        c=c+1\n",
    "    a1=data.iloc[1:c,2:3].T\n",
    "    df=df.append(pd.Series(list(a1.loc[2]),index=df.columns),ignore_index=True)\n",
    "    df = df.loc[:,~df.columns.duplicated()]\n",
    "    matches=matches.merge(df,how='outer')\n"
   ]
  },
  {
   "cell_type": "code",
   "execution_count": 4,
   "metadata": {},
   "outputs": [],
   "source": [
    "matches['id']=0\n",
    "for i in range(1,matches.shape[0]+1):\n",
    "    matches['id'][i]=i\n",
    "matches.head()\n"
   ]
  },
  {
   "cell_type": "code",
   "execution_count": null,
   "metadata": {},
   "outputs": [],
   "source": [
    "matches.to_csv('matches.csv')"
   ]
  },
  {
   "cell_type": "code",
   "execution_count": 36,
   "metadata": {},
   "outputs": [],
   "source": [
    "a=pd.read_csv('matches.csv')"
   ]
  },
  {
   "cell_type": "code",
   "execution_count": 37,
   "metadata": {},
   "outputs": [
    {
     "data": {
      "text/html": [
       "<div>\n",
       "<style scoped>\n",
       "    .dataframe tbody tr th:only-of-type {\n",
       "        vertical-align: middle;\n",
       "    }\n",
       "\n",
       "    .dataframe tbody tr th {\n",
       "        vertical-align: top;\n",
       "    }\n",
       "\n",
       "    .dataframe thead th {\n",
       "        text-align: right;\n",
       "    }\n",
       "</style>\n",
       "<table border=\"1\" class=\"dataframe\">\n",
       "  <thead>\n",
       "    <tr style=\"text-align: right;\">\n",
       "      <th></th>\n",
       "      <th>Unnamed: 0</th>\n",
       "      <th>Unnamed: 0.1</th>\n",
       "      <th>winner_wickets</th>\n",
       "      <th>umpire3</th>\n",
       "      <th>team</th>\n",
       "      <th>team2</th>\n",
       "      <th>gender</th>\n",
       "      <th>season</th>\n",
       "      <th>date</th>\n",
       "      <th>competition</th>\n",
       "      <th>...</th>\n",
       "      <th>reserve_umpire</th>\n",
       "      <th>tv_umpire</th>\n",
       "      <th>match_referee</th>\n",
       "      <th>winner</th>\n",
       "      <th>winner_runs</th>\n",
       "      <th>outcome</th>\n",
       "      <th>eliminator</th>\n",
       "      <th>date2</th>\n",
       "      <th>neutralvenue</th>\n",
       "      <th>id</th>\n",
       "    </tr>\n",
       "  </thead>\n",
       "  <tbody>\n",
       "    <tr>\n",
       "      <th>0</th>\n",
       "      <td>0</td>\n",
       "      <td>0</td>\n",
       "      <td>NaN</td>\n",
       "      <td>NaN</td>\n",
       "      <td>Sunrisers Hyderabad</td>\n",
       "      <td>Royal Challengers Bangalore</td>\n",
       "      <td>male</td>\n",
       "      <td>2017</td>\n",
       "      <td>2017/04/05</td>\n",
       "      <td>Indian Premier League</td>\n",
       "      <td>...</td>\n",
       "      <td>N Pandit</td>\n",
       "      <td>A Deshmukh</td>\n",
       "      <td>J Srinath</td>\n",
       "      <td>Sunrisers Hyderabad</td>\n",
       "      <td>35.0</td>\n",
       "      <td>NaN</td>\n",
       "      <td>NaN</td>\n",
       "      <td>NaN</td>\n",
       "      <td>NaN</td>\n",
       "      <td>0</td>\n",
       "    </tr>\n",
       "    <tr>\n",
       "      <th>1</th>\n",
       "      <td>1</td>\n",
       "      <td>1</td>\n",
       "      <td>7.0</td>\n",
       "      <td>NaN</td>\n",
       "      <td>Rising Pune Supergiant</td>\n",
       "      <td>Mumbai Indians</td>\n",
       "      <td>male</td>\n",
       "      <td>2017</td>\n",
       "      <td>2017/04/06</td>\n",
       "      <td>Indian Premier League</td>\n",
       "      <td>...</td>\n",
       "      <td>Navdeep Singh</td>\n",
       "      <td>VK Sharma</td>\n",
       "      <td>M Nayyar</td>\n",
       "      <td>Rising Pune Supergiant</td>\n",
       "      <td>NaN</td>\n",
       "      <td>NaN</td>\n",
       "      <td>NaN</td>\n",
       "      <td>NaN</td>\n",
       "      <td>NaN</td>\n",
       "      <td>1</td>\n",
       "    </tr>\n",
       "    <tr>\n",
       "      <th>2</th>\n",
       "      <td>2</td>\n",
       "      <td>2</td>\n",
       "      <td>10.0</td>\n",
       "      <td>NaN</td>\n",
       "      <td>Gujarat Lions</td>\n",
       "      <td>Kolkata Knight Riders</td>\n",
       "      <td>male</td>\n",
       "      <td>2017</td>\n",
       "      <td>2017/04/07</td>\n",
       "      <td>Indian Premier League</td>\n",
       "      <td>...</td>\n",
       "      <td>K Srinivasan</td>\n",
       "      <td>YC Barde</td>\n",
       "      <td>V Narayan Kutty</td>\n",
       "      <td>Kolkata Knight Riders</td>\n",
       "      <td>NaN</td>\n",
       "      <td>NaN</td>\n",
       "      <td>NaN</td>\n",
       "      <td>NaN</td>\n",
       "      <td>NaN</td>\n",
       "      <td>2</td>\n",
       "    </tr>\n",
       "    <tr>\n",
       "      <th>3</th>\n",
       "      <td>3</td>\n",
       "      <td>3</td>\n",
       "      <td>6.0</td>\n",
       "      <td>NaN</td>\n",
       "      <td>Kings XI Punjab</td>\n",
       "      <td>Rising Pune Supergiant</td>\n",
       "      <td>male</td>\n",
       "      <td>2017</td>\n",
       "      <td>2017/04/08</td>\n",
       "      <td>Indian Premier League</td>\n",
       "      <td>...</td>\n",
       "      <td>R Pandit</td>\n",
       "      <td>KN Ananthapadmanabhan</td>\n",
       "      <td>Chinmay Sharma</td>\n",
       "      <td>Kings XI Punjab</td>\n",
       "      <td>NaN</td>\n",
       "      <td>NaN</td>\n",
       "      <td>NaN</td>\n",
       "      <td>NaN</td>\n",
       "      <td>NaN</td>\n",
       "      <td>3</td>\n",
       "    </tr>\n",
       "    <tr>\n",
       "      <th>4</th>\n",
       "      <td>4</td>\n",
       "      <td>4</td>\n",
       "      <td>NaN</td>\n",
       "      <td>NaN</td>\n",
       "      <td>Royal Challengers Bangalore</td>\n",
       "      <td>Delhi Daredevils</td>\n",
       "      <td>male</td>\n",
       "      <td>2017</td>\n",
       "      <td>2017/04/08</td>\n",
       "      <td>Indian Premier League</td>\n",
       "      <td>...</td>\n",
       "      <td>Navdeep Singh</td>\n",
       "      <td>A Nand Kishore</td>\n",
       "      <td>J Srinath</td>\n",
       "      <td>Royal Challengers Bangalore</td>\n",
       "      <td>15.0</td>\n",
       "      <td>NaN</td>\n",
       "      <td>NaN</td>\n",
       "      <td>NaN</td>\n",
       "      <td>NaN</td>\n",
       "      <td>4</td>\n",
       "    </tr>\n",
       "  </tbody>\n",
       "</table>\n",
       "<p>5 rows × 28 columns</p>\n",
       "</div>"
      ],
      "text/plain": [
       "   Unnamed: 0  Unnamed: 0.1  winner_wickets  umpire3  \\\n",
       "0           0             0             NaN      NaN   \n",
       "1           1             1             7.0      NaN   \n",
       "2           2             2            10.0      NaN   \n",
       "3           3             3             6.0      NaN   \n",
       "4           4             4             NaN      NaN   \n",
       "\n",
       "                          team                        team2 gender season  \\\n",
       "0          Sunrisers Hyderabad  Royal Challengers Bangalore   male   2017   \n",
       "1       Rising Pune Supergiant               Mumbai Indians   male   2017   \n",
       "2                Gujarat Lions        Kolkata Knight Riders   male   2017   \n",
       "3              Kings XI Punjab       Rising Pune Supergiant   male   2017   \n",
       "4  Royal Challengers Bangalore             Delhi Daredevils   male   2017   \n",
       "\n",
       "         date            competition ...  reserve_umpire  \\\n",
       "0  2017/04/05  Indian Premier League ...        N Pandit   \n",
       "1  2017/04/06  Indian Premier League ...   Navdeep Singh   \n",
       "2  2017/04/07  Indian Premier League ...    K Srinivasan   \n",
       "3  2017/04/08  Indian Premier League ...        R Pandit   \n",
       "4  2017/04/08  Indian Premier League ...   Navdeep Singh   \n",
       "\n",
       "               tv_umpire    match_referee                       winner  \\\n",
       "0             A Deshmukh        J Srinath          Sunrisers Hyderabad   \n",
       "1              VK Sharma         M Nayyar       Rising Pune Supergiant   \n",
       "2               YC Barde  V Narayan Kutty        Kolkata Knight Riders   \n",
       "3  KN Ananthapadmanabhan   Chinmay Sharma              Kings XI Punjab   \n",
       "4         A Nand Kishore        J Srinath  Royal Challengers Bangalore   \n",
       "\n",
       "  winner_runs outcome eliminator date2 neutralvenue id  \n",
       "0        35.0     NaN        NaN   NaN          NaN  0  \n",
       "1         NaN     NaN        NaN   NaN          NaN  1  \n",
       "2         NaN     NaN        NaN   NaN          NaN  2  \n",
       "3         NaN     NaN        NaN   NaN          NaN  3  \n",
       "4        15.0     NaN        NaN   NaN          NaN  4  \n",
       "\n",
       "[5 rows x 28 columns]"
      ]
     },
     "execution_count": 37,
     "metadata": {},
     "output_type": "execute_result"
    }
   ],
   "source": [
    "a.head()"
   ]
  },
  {
   "cell_type": "code",
   "execution_count": null,
   "metadata": {},
   "outputs": [],
   "source": []
  },
  {
   "cell_type": "code",
   "execution_count": 48,
   "metadata": {},
   "outputs": [],
   "source": []
  },
  {
   "cell_type": "code",
   "execution_count": null,
   "metadata": {},
   "outputs": [],
   "source": []
  },
  {
   "cell_type": "code",
   "execution_count": null,
   "metadata": {},
   "outputs": [],
   "source": []
  },
  {
   "cell_type": "code",
   "execution_count": null,
   "metadata": {},
   "outputs": [],
   "source": []
  },
  {
   "cell_type": "code",
   "execution_count": null,
   "metadata": {},
   "outputs": [],
   "source": []
  },
  {
   "cell_type": "code",
   "execution_count": null,
   "metadata": {},
   "outputs": [],
   "source": []
  },
  {
   "cell_type": "code",
   "execution_count": null,
   "metadata": {},
   "outputs": [],
   "source": []
  },
  {
   "cell_type": "code",
   "execution_count": null,
   "metadata": {},
   "outputs": [],
   "source": []
  },
  {
   "cell_type": "code",
   "execution_count": null,
   "metadata": {},
   "outputs": [],
   "source": []
  },
  {
   "cell_type": "code",
   "execution_count": null,
   "metadata": {},
   "outputs": [],
   "source": []
  },
  {
   "cell_type": "code",
   "execution_count": null,
   "metadata": {},
   "outputs": [],
   "source": []
  },
  {
   "cell_type": "code",
   "execution_count": null,
   "metadata": {},
   "outputs": [],
   "source": []
  }
 ],
 "metadata": {
  "kernelspec": {
   "display_name": "Python 3",
   "language": "python",
   "name": "python3"
  },
  "language_info": {
   "codemirror_mode": {
    "name": "ipython",
    "version": 3
   },
   "file_extension": ".py",
   "mimetype": "text/x-python",
   "name": "python",
   "nbconvert_exporter": "python",
   "pygments_lexer": "ipython3",
   "version": "3.6.7"
  }
 },
 "nbformat": 4,
 "nbformat_minor": 2
}
