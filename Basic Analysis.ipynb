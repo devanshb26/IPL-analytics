{
 "cells": [
  {
   "cell_type": "code",
   "execution_count": 1,
   "metadata": {},
   "outputs": [],
   "source": [
    "import numpy as np # linear algebra\n",
    "import pandas as pd # data processing, CSV file I/O (e.g. pd.read_csv)\n",
    "import matplotlib.pyplot as plt\n",
    "import seaborn as sns\n",
    "plt.style.use('fivethirtyeight')\n"
   ]
  },
  {
   "cell_type": "code",
   "execution_count": 2,
   "metadata": {},
   "outputs": [],
   "source": [
    "matches=pd.read_csv('matches.csv') # reading the matches file"
   ]
  },
  {
   "cell_type": "code",
   "execution_count": 3,
   "metadata": {},
   "outputs": [
    {
     "data": {
      "text/html": [
       "<div>\n",
       "<style scoped>\n",
       "    .dataframe tbody tr th:only-of-type {\n",
       "        vertical-align: middle;\n",
       "    }\n",
       "\n",
       "    .dataframe tbody tr th {\n",
       "        vertical-align: top;\n",
       "    }\n",
       "\n",
       "    .dataframe thead th {\n",
       "        text-align: right;\n",
       "    }\n",
       "</style>\n",
       "<table border=\"1\" class=\"dataframe\">\n",
       "  <thead>\n",
       "    <tr style=\"text-align: right;\">\n",
       "      <th></th>\n",
       "      <th>Unnamed: 0</th>\n",
       "      <th>winner_wickets</th>\n",
       "      <th>umpire3</th>\n",
       "      <th>team</th>\n",
       "      <th>team2</th>\n",
       "      <th>gender</th>\n",
       "      <th>season</th>\n",
       "      <th>date</th>\n",
       "      <th>competition</th>\n",
       "      <th>match_number</th>\n",
       "      <th>...</th>\n",
       "      <th>umpire2</th>\n",
       "      <th>reserve_umpire</th>\n",
       "      <th>tv_umpire</th>\n",
       "      <th>match_referee</th>\n",
       "      <th>winner</th>\n",
       "      <th>winner_runs</th>\n",
       "      <th>outcome</th>\n",
       "      <th>eliminator</th>\n",
       "      <th>date2</th>\n",
       "      <th>neutralvenue</th>\n",
       "    </tr>\n",
       "  </thead>\n",
       "  <tbody>\n",
       "    <tr>\n",
       "      <th>0</th>\n",
       "      <td>0</td>\n",
       "      <td>NaN</td>\n",
       "      <td>NaN</td>\n",
       "      <td>Sunrisers Hyderabad</td>\n",
       "      <td>Royal Challengers Bangalore</td>\n",
       "      <td>male</td>\n",
       "      <td>2017</td>\n",
       "      <td>2017/04/05</td>\n",
       "      <td>Indian Premier League</td>\n",
       "      <td>1.0</td>\n",
       "      <td>...</td>\n",
       "      <td>NJ Llong</td>\n",
       "      <td>N Pandit</td>\n",
       "      <td>A Deshmukh</td>\n",
       "      <td>J Srinath</td>\n",
       "      <td>Sunrisers Hyderabad</td>\n",
       "      <td>35.0</td>\n",
       "      <td>NaN</td>\n",
       "      <td>NaN</td>\n",
       "      <td>NaN</td>\n",
       "      <td>NaN</td>\n",
       "    </tr>\n",
       "    <tr>\n",
       "      <th>1</th>\n",
       "      <td>1</td>\n",
       "      <td>7.0</td>\n",
       "      <td>NaN</td>\n",
       "      <td>Rising Pune Supergiant</td>\n",
       "      <td>Mumbai Indians</td>\n",
       "      <td>male</td>\n",
       "      <td>2017</td>\n",
       "      <td>2017/04/06</td>\n",
       "      <td>Indian Premier League</td>\n",
       "      <td>2.0</td>\n",
       "      <td>...</td>\n",
       "      <td>S Ravi</td>\n",
       "      <td>Navdeep Singh</td>\n",
       "      <td>VK Sharma</td>\n",
       "      <td>M Nayyar</td>\n",
       "      <td>Rising Pune Supergiant</td>\n",
       "      <td>NaN</td>\n",
       "      <td>NaN</td>\n",
       "      <td>NaN</td>\n",
       "      <td>NaN</td>\n",
       "      <td>NaN</td>\n",
       "    </tr>\n",
       "    <tr>\n",
       "      <th>2</th>\n",
       "      <td>2</td>\n",
       "      <td>10.0</td>\n",
       "      <td>NaN</td>\n",
       "      <td>Gujarat Lions</td>\n",
       "      <td>Kolkata Knight Riders</td>\n",
       "      <td>male</td>\n",
       "      <td>2017</td>\n",
       "      <td>2017/04/07</td>\n",
       "      <td>Indian Premier League</td>\n",
       "      <td>3.0</td>\n",
       "      <td>...</td>\n",
       "      <td>CK Nandan</td>\n",
       "      <td>K Srinivasan</td>\n",
       "      <td>YC Barde</td>\n",
       "      <td>V Narayan Kutty</td>\n",
       "      <td>Kolkata Knight Riders</td>\n",
       "      <td>NaN</td>\n",
       "      <td>NaN</td>\n",
       "      <td>NaN</td>\n",
       "      <td>NaN</td>\n",
       "      <td>NaN</td>\n",
       "    </tr>\n",
       "    <tr>\n",
       "      <th>3</th>\n",
       "      <td>3</td>\n",
       "      <td>6.0</td>\n",
       "      <td>NaN</td>\n",
       "      <td>Kings XI Punjab</td>\n",
       "      <td>Rising Pune Supergiant</td>\n",
       "      <td>male</td>\n",
       "      <td>2017</td>\n",
       "      <td>2017/04/08</td>\n",
       "      <td>Indian Premier League</td>\n",
       "      <td>4.0</td>\n",
       "      <td>...</td>\n",
       "      <td>C Shamshuddin</td>\n",
       "      <td>R Pandit</td>\n",
       "      <td>KN Ananthapadmanabhan</td>\n",
       "      <td>Chinmay Sharma</td>\n",
       "      <td>Kings XI Punjab</td>\n",
       "      <td>NaN</td>\n",
       "      <td>NaN</td>\n",
       "      <td>NaN</td>\n",
       "      <td>NaN</td>\n",
       "      <td>NaN</td>\n",
       "    </tr>\n",
       "    <tr>\n",
       "      <th>4</th>\n",
       "      <td>4</td>\n",
       "      <td>NaN</td>\n",
       "      <td>NaN</td>\n",
       "      <td>Royal Challengers Bangalore</td>\n",
       "      <td>Delhi Daredevils</td>\n",
       "      <td>male</td>\n",
       "      <td>2017</td>\n",
       "      <td>2017/04/08</td>\n",
       "      <td>Indian Premier League</td>\n",
       "      <td>5.0</td>\n",
       "      <td>...</td>\n",
       "      <td>NaN</td>\n",
       "      <td>Navdeep Singh</td>\n",
       "      <td>A Nand Kishore</td>\n",
       "      <td>J Srinath</td>\n",
       "      <td>Royal Challengers Bangalore</td>\n",
       "      <td>15.0</td>\n",
       "      <td>NaN</td>\n",
       "      <td>NaN</td>\n",
       "      <td>NaN</td>\n",
       "      <td>NaN</td>\n",
       "    </tr>\n",
       "  </tbody>\n",
       "</table>\n",
       "<p>5 rows × 26 columns</p>\n",
       "</div>"
      ],
      "text/plain": [
       "   Unnamed: 0  winner_wickets  umpire3                         team  \\\n",
       "0           0             NaN      NaN          Sunrisers Hyderabad   \n",
       "1           1             7.0      NaN       Rising Pune Supergiant   \n",
       "2           2            10.0      NaN                Gujarat Lions   \n",
       "3           3             6.0      NaN              Kings XI Punjab   \n",
       "4           4             NaN      NaN  Royal Challengers Bangalore   \n",
       "\n",
       "                         team2 gender season        date  \\\n",
       "0  Royal Challengers Bangalore   male   2017  2017/04/05   \n",
       "1               Mumbai Indians   male   2017  2017/04/06   \n",
       "2        Kolkata Knight Riders   male   2017  2017/04/07   \n",
       "3       Rising Pune Supergiant   male   2017  2017/04/08   \n",
       "4             Delhi Daredevils   male   2017  2017/04/08   \n",
       "\n",
       "             competition  match_number     ...             umpire2  \\\n",
       "0  Indian Premier League           1.0     ...            NJ Llong   \n",
       "1  Indian Premier League           2.0     ...              S Ravi   \n",
       "2  Indian Premier League           3.0     ...           CK Nandan   \n",
       "3  Indian Premier League           4.0     ...       C Shamshuddin   \n",
       "4  Indian Premier League           5.0     ...                 NaN   \n",
       "\n",
       "  reserve_umpire              tv_umpire    match_referee  \\\n",
       "0       N Pandit             A Deshmukh        J Srinath   \n",
       "1  Navdeep Singh              VK Sharma         M Nayyar   \n",
       "2   K Srinivasan               YC Barde  V Narayan Kutty   \n",
       "3       R Pandit  KN Ananthapadmanabhan   Chinmay Sharma   \n",
       "4  Navdeep Singh         A Nand Kishore        J Srinath   \n",
       "\n",
       "                        winner winner_runs outcome eliminator date2  \\\n",
       "0          Sunrisers Hyderabad        35.0     NaN        NaN   NaN   \n",
       "1       Rising Pune Supergiant         NaN     NaN        NaN   NaN   \n",
       "2        Kolkata Knight Riders         NaN     NaN        NaN   NaN   \n",
       "3              Kings XI Punjab         NaN     NaN        NaN   NaN   \n",
       "4  Royal Challengers Bangalore        15.0     NaN        NaN   NaN   \n",
       "\n",
       "  neutralvenue  \n",
       "0          NaN  \n",
       "1          NaN  \n",
       "2          NaN  \n",
       "3          NaN  \n",
       "4          NaN  \n",
       "\n",
       "[5 rows x 26 columns]"
      ]
     },
     "execution_count": 3,
     "metadata": {},
     "output_type": "execute_result"
    }
   ],
   "source": [
    "matches.head() # the dataframe has 25 different columns"
   ]
  },
  {
   "cell_type": "code",
   "execution_count": 4,
   "metadata": {},
   "outputs": [
    {
     "data": {
      "text/plain": [
       "Index(['Unnamed: 0', 'winner_wickets', 'umpire3', 'team', 'team2', 'gender',\n",
       "       'season', 'date', 'competition', 'match_number', 'venue', 'city',\n",
       "       'toss_winner', 'toss_decision', 'player_of_match', 'umpire', 'umpire2',\n",
       "       'reserve_umpire', 'tv_umpire', 'match_referee', 'winner', 'winner_runs',\n",
       "       'outcome', 'eliminator', 'date2', 'neutralvenue'],\n",
       "      dtype='object')"
      ]
     },
     "execution_count": 4,
     "metadata": {},
     "output_type": "execute_result"
    }
   ],
   "source": [
    "matches.columns # columns in the dataframe"
   ]
  },
  {
   "cell_type": "code",
   "execution_count": 5,
   "metadata": {},
   "outputs": [],
   "source": [
    "matches.drop(['umpire3'],axis=1,inplace=True)  #since all the values are NaN"
   ]
  },
  {
   "cell_type": "code",
   "execution_count": 6,
   "metadata": {},
   "outputs": [
    {
     "data": {
      "text/plain": [
       "array(['Sunrisers Hyderabad', 'Rising Pune Supergiant', 'Gujarat Lions',\n",
       "       'Kings XI Punjab', 'Royal Challengers Bangalore', 'Mumbai Indians',\n",
       "       'Kolkata Knight Riders', 'Delhi Daredevils', 'Rajasthan Royals',\n",
       "       'Deccan Chargers', 'Chennai Super Kings', 'Kochi Tuskers Kerala',\n",
       "       'Pune Warriors', 'Rising Pune Supergiants'], dtype=object)"
      ]
     },
     "execution_count": 6,
     "metadata": {},
     "output_type": "execute_result"
    }
   ],
   "source": [
    "matches['team'].unique() # different teams listed under team1"
   ]
  },
  {
   "cell_type": "code",
   "execution_count": 7,
   "metadata": {},
   "outputs": [
    {
     "data": {
      "text/plain": [
       "array(['Royal Challengers Bangalore', 'Mumbai Indians',\n",
       "       'Kolkata Knight Riders', 'Rising Pune Supergiant',\n",
       "       'Delhi Daredevils', 'Gujarat Lions', 'Sunrisers Hyderabad',\n",
       "       'Kings XI Punjab', 'Chennai Super Kings', 'Rajasthan Royals',\n",
       "       'Deccan Chargers', 'Kochi Tuskers Kerala', 'Pune Warriors',\n",
       "       'Rising Pune Supergiants'], dtype=object)"
      ]
     },
     "execution_count": 7,
     "metadata": {},
     "output_type": "execute_result"
    }
   ],
   "source": [
    "matches['team2'].unique()  # different teams listed under team2"
   ]
  },
  {
   "cell_type": "code",
   "execution_count": 7,
   "metadata": {},
   "outputs": [],
   "source": [
    "#matches.fillna(0,inplace=True) #filling all the NaN values with 0"
   ]
  },
  {
   "cell_type": "code",
   "execution_count": 8,
   "metadata": {},
   "outputs": [
    {
     "name": "stdout",
     "output_type": "stream",
     "text": [
      "Total Matches Played: 636\n",
      " \n",
      " Venues Played At: ['Hyderabad' 'Pune' 'Rajkot' 'Indore' 'Bangalore' 'Mumbai' 'Kolkata'\n",
      " 'Delhi' 'Chandigarh' 'Kanpur' nan 'Jaipur' 'Chennai' 'Cape Town'\n",
      " 'Port Elizabeth' 'Durban' 'Centurion' 'East London' 'Johannesburg'\n",
      " 'Kimberley' 'Bloemfontein' 'Ahmedabad' 'Cuttack' 'Nagpur' 'Dharamsala'\n",
      " 'Kochi' 'Visakhapatnam' 'Raipur' 'Ranchi' 'Abu Dhabi']\n",
      " \n",
      " Teams : ['Sunrisers Hyderabad' 'Rising Pune Supergiant' 'Gujarat Lions'\n",
      " 'Kings XI Punjab' 'Royal Challengers Bangalore' 'Mumbai Indians'\n",
      " 'Kolkata Knight Riders' 'Delhi Daredevils' 'Rajasthan Royals'\n",
      " 'Deccan Chargers' 'Chennai Super Kings' 'Kochi Tuskers Kerala'\n",
      " 'Pune Warriors' 'Rising Pune Supergiants']\n"
     ]
    }
   ],
   "source": [
    "print('Total Matches Played:',matches.shape[0])      # total no.of matches\n",
    "print(' \\n Venues Played At:',matches['city'].unique()) # Total different venues during all seasons   \n",
    "print(' \\n Teams :',matches['team'].unique())     # Total teams playing during all the seasons"
   ]
  },
  {
   "cell_type": "code",
   "execution_count": 9,
   "metadata": {},
   "outputs": [
    {
     "name": "stdout",
     "output_type": "stream",
     "text": [
      "Total venues played at: 29\n",
      "\n",
      "Total umpires  44\n"
     ]
    }
   ],
   "source": [
    "print('Total venues played at:',matches['city'].nunique()) # No.of differnt cities in which matches were held\n",
    "print('\\nTotal umpires ',matches['umpire'].nunique())      # No. of different umpires "
   ]
  },
  {
   "cell_type": "code",
   "execution_count": 10,
   "metadata": {},
   "outputs": [
    {
     "name": "stdout",
     "output_type": "stream",
     "text": [
      "CH Gayle  : has most man of the match awards\n",
      "Mumbai Indians : has the highest number of match wins\n"
     ]
    }
   ],
   "source": [
    "print((matches['player_of_match'].value_counts()).idxmax(),' : has most man of the match awards')\n",
    "print(((matches['winner']).value_counts()).idxmax(),': has the highest number of match wins')"
   ]
  },
  {
   "cell_type": "code",
   "execution_count": 11,
   "metadata": {},
   "outputs": [
    {
     "data": {
      "text/html": [
       "<div>\n",
       "<style scoped>\n",
       "    .dataframe tbody tr th:only-of-type {\n",
       "        vertical-align: middle;\n",
       "    }\n",
       "\n",
       "    .dataframe tbody tr th {\n",
       "        vertical-align: top;\n",
       "    }\n",
       "\n",
       "    .dataframe thead th {\n",
       "        text-align: right;\n",
       "    }\n",
       "</style>\n",
       "<table border=\"1\" class=\"dataframe\">\n",
       "  <thead>\n",
       "    <tr style=\"text-align: right;\">\n",
       "      <th></th>\n",
       "      <th>season</th>\n",
       "      <th>team</th>\n",
       "      <th>team2</th>\n",
       "      <th>winner</th>\n",
       "      <th>winner_runs</th>\n",
       "    </tr>\n",
       "  </thead>\n",
       "  <tbody>\n",
       "    <tr>\n",
       "      <th>43</th>\n",
       "      <td>2017</td>\n",
       "      <td>Delhi Daredevils</td>\n",
       "      <td>Mumbai Indians</td>\n",
       "      <td>Mumbai Indians</td>\n",
       "      <td>146.0</td>\n",
       "    </tr>\n",
       "  </tbody>\n",
       "</table>\n",
       "</div>"
      ],
      "text/plain": [
       "   season              team           team2          winner  winner_runs\n",
       "43   2017  Delhi Daredevils  Mumbai Indians  Mumbai Indians        146.0"
      ]
     },
     "execution_count": 11,
     "metadata": {},
     "output_type": "execute_result"
    }
   ],
   "source": [
    "df=matches.iloc[[matches['winner_runs'].idxmax()]]      # match won by largest run margin in history of IPL\n",
    "df[['season','team','team2','winner','winner_runs']]"
   ]
  },
  {
   "cell_type": "code",
   "execution_count": 12,
   "metadata": {},
   "outputs": [
    {
     "data": {
      "text/html": [
       "<div>\n",
       "<style scoped>\n",
       "    .dataframe tbody tr th:only-of-type {\n",
       "        vertical-align: middle;\n",
       "    }\n",
       "\n",
       "    .dataframe tbody tr th {\n",
       "        vertical-align: top;\n",
       "    }\n",
       "\n",
       "    .dataframe thead th {\n",
       "        text-align: right;\n",
       "    }\n",
       "</style>\n",
       "<table border=\"1\" class=\"dataframe\">\n",
       "  <thead>\n",
       "    <tr style=\"text-align: right;\">\n",
       "      <th></th>\n",
       "      <th>season</th>\n",
       "      <th>team</th>\n",
       "      <th>team2</th>\n",
       "      <th>winner</th>\n",
       "      <th>winner_wickets</th>\n",
       "    </tr>\n",
       "  </thead>\n",
       "  <tbody>\n",
       "    <tr>\n",
       "      <th>2</th>\n",
       "      <td>2017</td>\n",
       "      <td>Gujarat Lions</td>\n",
       "      <td>Kolkata Knight Riders</td>\n",
       "      <td>Kolkata Knight Riders</td>\n",
       "      <td>10.0</td>\n",
       "    </tr>\n",
       "  </tbody>\n",
       "</table>\n",
       "</div>"
      ],
      "text/plain": [
       "  season           team                  team2                 winner  \\\n",
       "2   2017  Gujarat Lions  Kolkata Knight Riders  Kolkata Knight Riders   \n",
       "\n",
       "   winner_wickets  \n",
       "2            10.0  "
      ]
     },
     "execution_count": 12,
     "metadata": {},
     "output_type": "execute_result"
    }
   ],
   "source": [
    "df=matches.iloc[[matches['winner_wickets'].idxmax()]]    # match won by largest wicket margin in history of IPL\n",
    "df[['season','team','team2','winner','winner_wickets']]"
   ]
  },
  {
   "cell_type": "code",
   "execution_count": 13,
   "metadata": {},
   "outputs": [
    {
     "data": {
      "text/plain": [
       "field    361\n",
       "bat      273\n",
       "Name: toss_decision, dtype: int64"
      ]
     },
     "execution_count": 13,
     "metadata": {},
     "output_type": "execute_result"
    }
   ],
   "source": [
    "matches['toss_decision'].value_counts()    # Decision of toss wins"
   ]
  },
  {
   "cell_type": "code",
   "execution_count": 14,
   "metadata": {},
   "outputs": [
    {
     "name": "stdout",
     "output_type": "stream",
     "text": [
      "Toss Decisions in %\n",
      " field    56.940063\n",
      "bat      43.059937\n",
      "Name: toss_decision, dtype: float64\n"
     ]
    }
   ],
   "source": [
    "print('Toss Decisions in %\\n',((matches['toss_decision']).value_counts())/634*100)   # percentage decision of toss wins overall"
   ]
  },
  {
   "cell_type": "code",
   "execution_count": 15,
   "metadata": {},
   "outputs": [
    {
     "data": {
      "image/png": "[encoded data removed]",
      "text/plain": [
       "<Figure size 720x432 with 1 Axes>"
      ]
     },
     "metadata": {
      "needs_background": "light"
     },
     "output_type": "display_data"
    }
   ],
   "source": [
    "plt.subplots(figsize=(10,6))\n",
    "sns.countplot(x='season',hue='toss_decision',data=matches)  # Toss decisions across seasons\n",
    "plt.show()"
   ]
  },
  {
   "cell_type": "code",
   "execution_count": 16,
   "metadata": {},
   "outputs": [
    {
     "data": {
      "image/png": "[encoded data removed]",
      "text/plain": [
       "<Figure size 720x432 with 1 Axes>"
      ]
     },
     "metadata": {
      "needs_background": "light"
     },
     "output_type": "display_data"
    }
   ],
   "source": [
    "# Toss wins distribution across teams\n",
    "plt.subplots(figsize=(10,6))\n",
    "ax=matches['toss_winner'].value_counts().plot.bar(width=0.9,color=sns.color_palette('inferno',20)) \n",
    "for p in ax.patches:\n",
    "    ax.annotate(format(p.get_height()), (p.get_x()+0.15, p.get_height()+1))\n",
    "plt.show()"
   ]
  },
  {
   "cell_type": "markdown",
   "metadata": {},
   "source": [
    "## Total Matches Played for Teams"
   ]
  },
  {
   "cell_type": "code",
   "execution_count": 17,
   "metadata": {},
   "outputs": [],
   "source": [
    "matches_played_byteams=pd.concat([matches['team'],matches['team2']])\n",
    "matches_played_byteams=matches_played_byteams.value_counts().reset_index()"
   ]
  },
  {
   "cell_type": "code",
   "execution_count": 18,
   "metadata": {},
   "outputs": [
    {
     "data": {
      "text/html": [
       "<div>\n",
       "<style scoped>\n",
       "    .dataframe tbody tr th:only-of-type {\n",
       "        vertical-align: middle;\n",
       "    }\n",
       "\n",
       "    .dataframe tbody tr th {\n",
       "        vertical-align: top;\n",
       "    }\n",
       "\n",
       "    .dataframe thead th {\n",
       "        text-align: right;\n",
       "    }\n",
       "</style>\n",
       "<table border=\"1\" class=\"dataframe\">\n",
       "  <thead>\n",
       "    <tr style=\"text-align: right;\">\n",
       "      <th></th>\n",
       "      <th>index</th>\n",
       "      <th>0</th>\n",
       "    </tr>\n",
       "  </thead>\n",
       "  <tbody>\n",
       "    <tr>\n",
       "      <th>0</th>\n",
       "      <td>Mumbai Indians</td>\n",
       "      <td>157</td>\n",
       "    </tr>\n",
       "    <tr>\n",
       "      <th>1</th>\n",
       "      <td>Royal Challengers Bangalore</td>\n",
       "      <td>152</td>\n",
       "    </tr>\n",
       "    <tr>\n",
       "      <th>2</th>\n",
       "      <td>Kolkata Knight Riders</td>\n",
       "      <td>148</td>\n",
       "    </tr>\n",
       "    <tr>\n",
       "      <th>3</th>\n",
       "      <td>Kings XI Punjab</td>\n",
       "      <td>148</td>\n",
       "    </tr>\n",
       "    <tr>\n",
       "      <th>4</th>\n",
       "      <td>Delhi Daredevils</td>\n",
       "      <td>147</td>\n",
       "    </tr>\n",
       "    <tr>\n",
       "      <th>5</th>\n",
       "      <td>Chennai Super Kings</td>\n",
       "      <td>131</td>\n",
       "    </tr>\n",
       "    <tr>\n",
       "      <th>6</th>\n",
       "      <td>Rajasthan Royals</td>\n",
       "      <td>118</td>\n",
       "    </tr>\n",
       "    <tr>\n",
       "      <th>7</th>\n",
       "      <td>Sunrisers Hyderabad</td>\n",
       "      <td>76</td>\n",
       "    </tr>\n",
       "    <tr>\n",
       "      <th>8</th>\n",
       "      <td>Deccan Chargers</td>\n",
       "      <td>75</td>\n",
       "    </tr>\n",
       "    <tr>\n",
       "      <th>9</th>\n",
       "      <td>Pune Warriors</td>\n",
       "      <td>46</td>\n",
       "    </tr>\n",
       "    <tr>\n",
       "      <th>10</th>\n",
       "      <td>Gujarat Lions</td>\n",
       "      <td>30</td>\n",
       "    </tr>\n",
       "    <tr>\n",
       "      <th>11</th>\n",
       "      <td>Rising Pune Supergiant</td>\n",
       "      <td>16</td>\n",
       "    </tr>\n",
       "    <tr>\n",
       "      <th>12</th>\n",
       "      <td>Kochi Tuskers Kerala</td>\n",
       "      <td>14</td>\n",
       "    </tr>\n",
       "    <tr>\n",
       "      <th>13</th>\n",
       "      <td>Rising Pune Supergiants</td>\n",
       "      <td>14</td>\n",
       "    </tr>\n",
       "  </tbody>\n",
       "</table>\n",
       "</div>"
      ],
      "text/plain": [
       "                          index    0\n",
       "0                Mumbai Indians  157\n",
       "1   Royal Challengers Bangalore  152\n",
       "2         Kolkata Knight Riders  148\n",
       "3               Kings XI Punjab  148\n",
       "4              Delhi Daredevils  147\n",
       "5           Chennai Super Kings  131\n",
       "6              Rajasthan Royals  118\n",
       "7           Sunrisers Hyderabad   76\n",
       "8               Deccan Chargers   75\n",
       "9                 Pune Warriors   46\n",
       "10                Gujarat Lions   30\n",
       "11       Rising Pune Supergiant   16\n",
       "12         Kochi Tuskers Kerala   14\n",
       "13      Rising Pune Supergiants   14"
      ]
     },
     "execution_count": 18,
     "metadata": {},
     "output_type": "execute_result"
    }
   ],
   "source": [
    "matches_played_byteams"
   ]
  },
  {
   "cell_type": "markdown",
   "metadata": {},
   "source": [
    "# Total matches vs wins for teams"
   ]
  },
  {
   "cell_type": "code",
   "execution_count": 19,
   "metadata": {},
   "outputs": [],
   "source": [
    "matches_played_byteams.columns=['Team','Total Matches']\n",
    "matches_played_byteams['wins']=matches['winner'].value_counts().reset_index()['winner']\n",
    "matches_played_byteams.set_index('Team',inplace=True)"
   ]
  },
  {
   "cell_type": "code",
   "execution_count": 20,
   "metadata": {},
   "outputs": [
    {
     "data": {
      "text/html": [
       "<div>\n",
       "<style scoped>\n",
       "    .dataframe tbody tr th:only-of-type {\n",
       "        vertical-align: middle;\n",
       "    }\n",
       "\n",
       "    .dataframe tbody tr th {\n",
       "        vertical-align: top;\n",
       "    }\n",
       "\n",
       "    .dataframe thead th {\n",
       "        text-align: right;\n",
       "    }\n",
       "</style>\n",
       "<table border=\"1\" class=\"dataframe\">\n",
       "  <thead>\n",
       "    <tr style=\"text-align: right;\">\n",
       "      <th></th>\n",
       "      <th>Total Matches</th>\n",
       "      <th>wins</th>\n",
       "    </tr>\n",
       "    <tr>\n",
       "      <th>Team</th>\n",
       "      <th></th>\n",
       "      <th></th>\n",
       "    </tr>\n",
       "  </thead>\n",
       "  <tbody>\n",
       "    <tr>\n",
       "      <th>Mumbai Indians</th>\n",
       "      <td>157</td>\n",
       "      <td>91</td>\n",
       "    </tr>\n",
       "    <tr>\n",
       "      <th>Royal Challengers Bangalore</th>\n",
       "      <td>152</td>\n",
       "      <td>79</td>\n",
       "    </tr>\n",
       "    <tr>\n",
       "      <th>Kolkata Knight Riders</th>\n",
       "      <td>148</td>\n",
       "      <td>75</td>\n",
       "    </tr>\n",
       "    <tr>\n",
       "      <th>Kings XI Punjab</th>\n",
       "      <td>148</td>\n",
       "      <td>72</td>\n",
       "    </tr>\n",
       "    <tr>\n",
       "      <th>Delhi Daredevils</th>\n",
       "      <td>147</td>\n",
       "      <td>68</td>\n",
       "    </tr>\n",
       "    <tr>\n",
       "      <th>Chennai Super Kings</th>\n",
       "      <td>131</td>\n",
       "      <td>62</td>\n",
       "    </tr>\n",
       "    <tr>\n",
       "      <th>Rajasthan Royals</th>\n",
       "      <td>118</td>\n",
       "      <td>61</td>\n",
       "    </tr>\n",
       "    <tr>\n",
       "      <th>Sunrisers Hyderabad</th>\n",
       "      <td>76</td>\n",
       "      <td>41</td>\n",
       "    </tr>\n",
       "    <tr>\n",
       "      <th>Deccan Chargers</th>\n",
       "      <td>75</td>\n",
       "      <td>29</td>\n",
       "    </tr>\n",
       "    <tr>\n",
       "      <th>Pune Warriors</th>\n",
       "      <td>46</td>\n",
       "      <td>13</td>\n",
       "    </tr>\n",
       "    <tr>\n",
       "      <th>Gujarat Lions</th>\n",
       "      <td>30</td>\n",
       "      <td>12</td>\n",
       "    </tr>\n",
       "    <tr>\n",
       "      <th>Rising Pune Supergiant</th>\n",
       "      <td>16</td>\n",
       "      <td>10</td>\n",
       "    </tr>\n",
       "    <tr>\n",
       "      <th>Kochi Tuskers Kerala</th>\n",
       "      <td>14</td>\n",
       "      <td>6</td>\n",
       "    </tr>\n",
       "    <tr>\n",
       "      <th>Rising Pune Supergiants</th>\n",
       "      <td>14</td>\n",
       "      <td>5</td>\n",
       "    </tr>\n",
       "  </tbody>\n",
       "</table>\n",
       "</div>"
      ],
      "text/plain": [
       "                             Total Matches  wins\n",
       "Team                                            \n",
       "Mumbai Indians                         157    91\n",
       "Royal Challengers Bangalore            152    79\n",
       "Kolkata Knight Riders                  148    75\n",
       "Kings XI Punjab                        148    72\n",
       "Delhi Daredevils                       147    68\n",
       "Chennai Super Kings                    131    62\n",
       "Rajasthan Royals                       118    61\n",
       "Sunrisers Hyderabad                     76    41\n",
       "Deccan Chargers                         75    29\n",
       "Pune Warriors                           46    13\n",
       "Gujarat Lions                           30    12\n",
       "Rising Pune Supergiant                  16    10\n",
       "Kochi Tuskers Kerala                    14     6\n",
       "Rising Pune Supergiants                 14     5"
      ]
     },
     "execution_count": 20,
     "metadata": {},
     "output_type": "execute_result"
    }
   ],
   "source": [
    "matches_played_byteams"
   ]
  },
  {
   "cell_type": "markdown",
   "metadata": {},
   "source": [
    "## Does the toss winner actually ends up winning the match? "
   ]
  },
  {
   "cell_type": "code",
   "execution_count": 21,
   "metadata": {},
   "outputs": [
    {
     "data": {
      "image/png": "[encoded data removed]",
      "text/plain": [
       "<Figure size 432x432 with 1 Axes>"
      ]
     },
     "metadata": {},
     "output_type": "display_data"
    }
   ],
   "source": [
    "df=matches[matches['toss_winner']==matches['winner']]\n",
    "slices=[len(df),(634-len(df))]\n",
    "labels=['yes','no']\n",
    "plt.pie(slices,labels=labels,startangle=90,shadow=True,explode=(0,0.05),autopct='%1.1f%%',colors=['r','g'])\n",
    "fig = plt.gcf()\n",
    "fig.set_size_inches(6,6)\n",
    "plt.show()"
   ]
  },
  {
   "cell_type": "raw",
   "metadata": {},
   "source": [
    "It seems this is not the case.Its actually almost a 50-50% chance"
   ]
  },
  {
   "cell_type": "markdown",
   "metadata": {},
   "source": [
    "## Distribution of matches across seasons"
   ]
  },
  {
   "cell_type": "code",
   "execution_count": 22,
   "metadata": {},
   "outputs": [
    {
     "data": {
      "text/plain": [
       "<matplotlib.axes._subplots.AxesSubplot at 0x1bbfff06320>"
      ]
     },
     "execution_count": 22,
     "metadata": {},
     "output_type": "execute_result"
    },
    {
     "data": {
      "image/png": "[encoded data removed]",
      "text/plain": [
       "<Figure size 720x432 with 1 Axes>"
      ]
     },
     "metadata": {
      "needs_background": "light"
     },
     "output_type": "display_data"
    }
   ],
   "source": [
    "plt.subplots(figsize=(10,6))\n",
    "sns.countplot(x='season',data=matches,palette=sns.color_palette('inferno'))"
   ]
  },
  {
   "cell_type": "markdown",
   "metadata": {},
   "source": [
    "## Player in descending order of number of times declared player of the match "
   ]
  },
  {
   "cell_type": "code",
   "execution_count": 23,
   "metadata": {},
   "outputs": [
    {
     "data": {
      "image/png": "[encoded data removed]",
      "text/plain": [
       "<Figure size 720x432 with 1 Axes>"
      ]
     },
     "metadata": {
      "needs_background": "light"
     },
     "output_type": "display_data"
    }
   ],
   "source": [
    "plt.subplots(figsize=(10,6))\n",
    "#the code used is very basic but gets the job done easily\n",
    "ax = matches['player_of_match'].value_counts().head(10).plot.bar(width=.8, color=sns.color_palette('inferno',10))  #counts the values corresponding \n",
    "# to each batsman and then filters out the top 10 batsman and then plots a bargraph \n",
    "ax.set_xlabel('player_of_match') \n",
    "ax.set_ylabel('count')\n",
    "for p in ax.patches:\n",
    "    ax.annotate(format(p.get_height()), (p.get_x()+0.15, p.get_height()+0.25))\n",
    "plt.show()"
   ]
  },
  {
   "cell_type": "markdown",
   "metadata": {},
   "source": [
    "## Favourite Grounds"
   ]
  },
  {
   "cell_type": "code",
   "execution_count": 24,
   "metadata": {},
   "outputs": [
    {
     "data": {
      "image/png": "[encoded data removed]",
      "text/plain": [
       "<Figure size 720x1080 with 1 Axes>"
      ]
     },
     "metadata": {
      "needs_background": "light"
     },
     "output_type": "display_data"
    }
   ],
   "source": [
    "plt.subplots(figsize=(10,15))\n",
    "venue_favourite = matches['venue'].value_counts().sort_values(ascending=True)\n",
    "ax=venue_favourite.plot.barh(width=.9,color=sns.color_palette('winter',40))\n",
    "ax.set_xlabel('Grounds')\n",
    "ax.set_ylabel('count')\n",
    "plt.show()\n"
   ]
  },
  {
   "cell_type": "markdown",
   "metadata": {},
   "source": [
    "## Winners of different seasons"
   ]
  },
  {
   "cell_type": "code",
   "execution_count": 25,
   "metadata": {},
   "outputs": [],
   "source": [
    "total_seasons=matches['season'].unique()"
   ]
  },
  {
   "cell_type": "code",
   "execution_count": 26,
   "metadata": {},
   "outputs": [
    {
     "data": {
      "text/plain": [
       "array(['2017', '2007/08', '2009', '2009/10', '2011', '2012', '2013',\n",
       "       '2014', '2015', '2016'], dtype=object)"
      ]
     },
     "execution_count": 26,
     "metadata": {},
     "output_type": "execute_result"
    }
   ],
   "source": [
    "total_seasons"
   ]
  },
  {
   "cell_type": "code",
   "execution_count": 27,
   "metadata": {},
   "outputs": [
    {
     "name": "stdout",
     "output_type": "stream",
     "text": [
      "The winners for each season are :\n",
      "\n",
      "\n",
      "  2017 Mumbai Indians\n",
      "\n",
      "  2007/08 Rajasthan Royals\n",
      "\n",
      "  2009 Deccan Chargers\n",
      "\n",
      "  2009/10 Chennai Super Kings\n",
      "\n",
      "  2011 Chennai Super Kings\n",
      "\n",
      "  2012 Kolkata Knight Riders\n",
      "\n",
      "  2013 Mumbai Indians\n",
      "\n",
      "  2014 Kolkata Knight Riders\n",
      "\n",
      "  2015 Mumbai Indians\n",
      "\n",
      "  2016 Sunrisers Hyderabad\n"
     ]
    }
   ],
   "source": [
    "print('The winners for each season are :\\n')\n",
    "for i in total_seasons:\n",
    "    print('\\n ',i,matches[matches['season']==i].iloc[-1]['winner'])"
   ]
  },
  {
   "cell_type": "markdown",
   "metadata": {},
   "source": [
    "## Umpires in descending order of number of matches conducted"
   ]
  },
  {
   "cell_type": "code",
   "execution_count": 28,
   "metadata": {},
   "outputs": [
    {
     "data": {
      "image/png": "[encoded data removed]",
      "text/plain": [
       "<Figure size 1080x432 with 1 Axes>"
      ]
     },
     "metadata": {
      "needs_background": "light"
     },
     "output_type": "display_data"
    }
   ],
   "source": [
    "plt.subplots(figsize=(15,6))\n",
    "ump=pd.concat([matches['umpire'],matches['umpire2']]) \n",
    "ax=ump.value_counts().head(15).plot.bar(width=0.9,color=sns.color_palette('summer',10))\n",
    "for p in ax.patches:\n",
    "    ax.annotate(format(p.get_height()), (p.get_x()+0.15, p.get_height()+0.25))\n",
    "plt.show()"
   ]
  },
  {
   "cell_type": "code",
   "execution_count": 29,
   "metadata": {},
   "outputs": [],
   "source": [
    "# function that shows the total number of times team1 and team2 played and also the winner among them\n",
    "def winner(team1,team2):\n",
    "    n = matches[((matches['team']==team1)|(matches['team']==team2))&((matches['team2']==team1)|(matches['team2']==team2))]\n",
    "    plt.subplots(figsize=(10,6))\n",
    "    sns.countplot(x='season',hue='winner',data=n)\n",
    "    plt.show()"
   ]
  },
  {
   "cell_type": "code",
   "execution_count": 30,
   "metadata": {},
   "outputs": [
    {
     "data": {
      "image/png": "[encoded data removed]",
      "text/plain": [
       "<Figure size 720x432 with 1 Axes>"
      ]
     },
     "metadata": {
      "needs_background": "light"
     },
     "output_type": "display_data"
    }
   ],
   "source": [
    "winner('Mumbai Indians','Kolkata Knight Riders')"
   ]
  },
  {
   "cell_type": "code",
   "execution_count": 31,
   "metadata": {},
   "outputs": [],
   "source": [
    "# function that prints the encounters of team1 with other teams and the number of wins of each resectively \n",
    "def compare(team1):\n",
    "    a=list(matches['team'].unique())\n",
    "    b=list(a.copy())\n",
    "    b.remove(team1)\n",
    "    z=matches[(matches['team']==team1)|(matches['team2']==team1)]\n",
    "    for i in b:\n",
    "        m = (((z['team']==i)|(z['team2']==i)))&((z['team']==team1)|(z['team2']==team1))\n",
    "        q = z.loc[m, 'winner'].value_counts().to_frame().T\n",
    "        print(q)"
   ]
  },
  {
   "cell_type": "code",
   "execution_count": 32,
   "metadata": {},
   "outputs": [
    {
     "name": "stdout",
     "output_type": "stream",
     "text": [
      "        Kolkata Knight Riders  Sunrisers Hyderabad\n",
      "winner                      7                    4\n",
      "        Kolkata Knight Riders  Rising Pune Supergiant\n",
      "winner                      1                       1\n",
      "        Gujarat Lions  Kolkata Knight Riders\n",
      "winner              3                      1\n",
      "        Kolkata Knight Riders  Kings XI Punjab\n",
      "winner                     13                7\n",
      "        Kolkata Knight Riders  Royal Challengers Bangalore\n",
      "winner                     11                            9\n",
      "        Mumbai Indians  Kolkata Knight Riders\n",
      "winner              16                      5\n",
      "        Kolkata Knight Riders  Delhi Daredevils\n",
      "winner                     12                 7\n",
      "        Rajasthan Royals  Kolkata Knight Riders\n",
      "winner                 7                      6\n",
      "        Kolkata Knight Riders  Deccan Chargers\n",
      "winner                      7                2\n",
      "        Chennai Super Kings  Kolkata Knight Riders\n",
      "winner                   10                      6\n",
      "        Kochi Tuskers Kerala\n",
      "winner                     2\n",
      "        Kolkata Knight Riders  Pune Warriors\n",
      "winner                      4              1\n",
      "        Kolkata Knight Riders\n",
      "winner                      2\n"
     ]
    }
   ],
   "source": [
    "compare('Kolkata Knight Riders')"
   ]
  },
  {
   "cell_type": "code",
   "execution_count": null,
   "metadata": {},
   "outputs": [],
   "source": []
  },
  {
   "cell_type": "code",
   "execution_count": null,
   "metadata": {},
   "outputs": [],
   "source": []
  }
 ],
 "metadata": {
  "kernelspec": {
   "display_name": "Python 3",
   "language": "python",
   "name": "python3"
  },
  "language_info": {
   "codemirror_mode": {
    "name": "ipython",
    "version": 3
   },
   "file_extension": ".py",
   "mimetype": "text/x-python",
   "name": "python",
   "nbconvert_exporter": "python",
   "pygments_lexer": "ipython3",
   "version": "3.6.7"
  }
 },
 "nbformat": 4,
 "nbformat_minor": 2
}
